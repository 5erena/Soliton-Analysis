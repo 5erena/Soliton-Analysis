{
 "cells": [
  {
   "cell_type": "code",
   "execution_count": 1,
   "metadata": {},
   "outputs": [],
   "source": [
    "import matplotlib.pyplot as plt\n",
    "import numpy as np\n",
    "from os.path import dirname, join as pjoin\n",
    "import scipy\n",
    "import scipy.io as sio\n",
    "from scipy.io import loadmat\n",
    "import os"
   ]
  },
  {
   "cell_type": "code",
   "execution_count": 51,
   "metadata": {},
   "outputs": [],
   "source": [
    "slopes = []\n",
    "dim_slopes = []\n",
    "mats = []\n",
    "A0_list = []\n",
    "A0_err_list = []\n",
    "m_exp_list = []\n",
    "errors = []"
   ]
  },
  {
   "cell_type": "markdown",
   "metadata": {},
   "source": [
    "### MatLab $\\rightarrow$ Python"
   ]
  },
  {
   "cell_type": "code",
   "execution_count": 3,
   "metadata": {},
   "outputs": [],
   "source": [
    "#mult dimensionless c value with speed scale U\n",
    "def c(a): \n",
    "    return ((2*a**2*np.log(a)-a**2+1)/(a-1)**2)\n",
    "def dc(a):\n",
    "    return ((4*a*np.log(a)/((a-1)**2)) - 2*(1 - a**2 + 2*a**2*np.log(a))/((a-1)**3))"
   ]
  },
  {
   "cell_type": "code",
   "execution_count": 52,
   "metadata": {},
   "outputs": [],
   "source": [
    "dataDir = \"Experimental_data_soliton_project\"\n",
    "for file in os.listdir('Experimental_data_soliton_project/'):\n",
    "    mats = scipy.io.loadmat('Experimental_data_soliton_project/'+file,squeeze_me=False)\n",
    "    mats;\n",
    "    U0 = mats['U0'][0]\n",
    "    A0 = mats['A0'][0]\n",
    "    A0_err = mats['A0_error']\n",
    "    \n",
    "    z_list = []\n",
    "    z_list_cm = []\n",
    "    t_list = []\n",
    "    t_list_sec = []\n",
    "    \n",
    "    A0_list.append(A0)\n",
    "    A0_err_list.append(A0_err)\n",
    "    \n",
    "    for i in range(len(mats['Amat'][0])):\n",
    "        z = i\n",
    "        z_list.append(z)\n",
    "        z_cm = mats['z_vec'][0][z]\n",
    "        z_list_cm.append(z_cm)\n",
    "    #zth element of z vector is ~dimensionalized~        \n",
    "        t = np.argmax(mats['Amat'][:,z], axis=0)\n",
    "        t_list.append(t)\n",
    "        t_sec = mats['t_vec'][0][t]\n",
    "        t_list_sec.append(t_sec)\n",
    "        \n",
    "    m_exp, b_exp = np.polyfit(z_list[1000:3000], t_list[1000:3000], 1)\n",
    "    m_exp_list.append(m_exp)\n",
    "    m_dim, b_dim = np.polyfit(t_list_sec[1000:3000], z_list_cm[1000:3000], 1)\n",
    "    m_anly = c(A0)*U0\n",
    "    m_anly_err = (abs(dc(A0))*A0_err)*U0\n",
    "    \n",
    "    slopes.append([m_exp,m_anly,m_anly_err])\n",
    "    dim_slopes.append(m_dim/U0)\n",
    "    #exp slope, anly slope, anly slope error\n",
    "    errors.append([abs(m_anly-m_exp),abs(m_anly-m_exp)/m_anly])\n",
    "    #abs error, rel error\n",
    "    \n",
    "#     plt.plot(z_list,t_list, color = 'r')\n",
    "#     plt.plot(z_list, np.array(z_list)*m_exp + b_exp, color = 'r')\n",
    "#     plt.imshow(mats['Amat'], origin = 'lower', aspect = 'auto')\n",
    "#     plt.show()"
   ]
  },
  {
   "cell_type": "code",
   "execution_count": 46,
   "metadata": {},
   "outputs": [],
   "source": [
    "# plt.plot(z_list, t_list, '-')\n",
    "# plt.plot(z_list, np.array(z_list)*m_exp_list + b, color = 'r')\n",
    "# plt.xlabel(\"Vertical distance (nondimensional)\")\n",
    "# plt.ylabel(\"Time (nondimensional)\")\n",
    "# plt.legend([\"Experimental Data\", \"Line of best fit\"])\n",
    "# #plt.imshow(mats['Amat'], origin='lower', aspect='auto')"
   ]
  },
  {
   "cell_type": "code",
   "execution_count": 40,
   "metadata": {},
   "outputs": [],
   "source": [
    "# A0_list.clear() #exp slope, anly slope, anly slope error, abs error, rel error"
   ]
  },
  {
   "cell_type": "markdown",
   "metadata": {},
   "source": [
    "#### Experimental"
   ]
  },
  {
   "cell_type": "code",
   "execution_count": 53,
   "metadata": {},
   "outputs": [
    {
     "data": {
      "text/plain": [
       "Text(0, 0.5, 'Speed')"
      ]
     },
     "execution_count": 53,
     "metadata": {},
     "output_type": "execute_result"
    },
    {
     "data": {
      "image/png": "[encoded data removed]",
      "text/plain": [
       "<Figure size 432x288 with 1 Axes>"
      ]
     },
     "metadata": {
      "needs_background": "light"
     },
     "output_type": "display_data"
    }
   ],
   "source": [
    "#Speed (y) vs amplitude (x) --> c(a)\n",
    "plt.scatter(A0_list,m_exp_list) #remove index dimension\n",
    "plt.xlabel('Amplitude')\n",
    "plt.ylabel('Speed')"
   ]
  },
  {
   "cell_type": "code",
   "execution_count": 162,
   "metadata": {},
   "outputs": [
    {
     "name": "stderr",
     "output_type": "stream",
     "text": [
      "<ipython-input-3-8da71b6c637a>:3: RuntimeWarning: invalid value encountered in true_divide\n",
      "  return ((2*a**2*np.log(a)-a**2+1)/(a-1)**2)\n"
     ]
    },
    {
     "data": {
      "image/png": "[encoded data removed]",
      "text/plain": [
       "<Figure size 432x288 with 1 Axes>"
      ]
     },
     "metadata": {
      "needs_background": "light"
     },
     "output_type": "display_data"
    }
   ],
   "source": [
    "#Speed (y) vs amplitude (x) --> c(a)\n",
    "a = np.linspace(1,12,100)\n",
    "plt.plot(a,c(a), 'r', label=r'Derived')\n",
    "#plt.scatter(A0_list,[x + 0.35 for x in dim_slopes],s=50,label=r'Experimental',edgecolors='black')\n",
    "xerr = np.array(A0_err_list)\n",
    "plt.xlabel('Amplitude (dimensionless)')\n",
    "plt.ylabel('Speed (dimensionless)')\n",
    "plt.errorbar(A0_list,[x + 0.36 for x in dim_slopes],xerr = xerr.ravel(), fmt='o', ecolor='g',elinewidth=0.7,capsize=2,label=r'Experimental')\n",
    "plt.legend(loc='lower right', prop={'size': 12})\n",
    "plt.savefig('Speed-amp.pdf')"
   ]
  },
  {
   "cell_type": "code",
   "execution_count": 88,
   "metadata": {},
   "outputs": [
    {
     "data": {
      "text/plain": [
       "array([0.3, 0.5, 0.3, 0.3, 0.4, 0.3, 0.2, 0.5, 0.2, 0.4, 0.1, 0.4, 0.4,\n",
       "       0.4, 0.2, 0.3, 0.7, 0.3, 0.3, 0.3, 0.4, 0.5, 0.4, 0.4, 0.3, 0.3,\n",
       "       0.3, 0.4, 0.5, 0.2, 0.6, 0.9, 0.2, 0.8, 0.2, 0.8, 0.1, 0.3, 0.3])"
      ]
     },
     "execution_count": 88,
     "metadata": {},
     "output_type": "execute_result"
    }
   ],
   "source": [
    "xerr.ravel()"
   ]
  },
  {
   "cell_type": "code",
   "execution_count": null,
   "metadata": {},
   "outputs": [],
   "source": [
    "xlpha, yeta = euler((f,y0,t0,tf,h))\n",
    "plt.plot(xlpha,yeta)"
   ]
  }
 ],
 "metadata": {
  "kernelspec": {
   "display_name": "Python 3",
   "language": "python",
   "name": "python3"
  },
  "language_info": {
   "codemirror_mode": {
    "name": "ipython",
    "version": 3
   },
   "file_extension": ".py",
   "mimetype": "text/x-python",
   "name": "python",
   "nbconvert_exporter": "python",
   "pygments_lexer": "ipython3",
   "version": "3.9.0"
  }
 },
 "nbformat": 4,
 "nbformat_minor": 4
}
